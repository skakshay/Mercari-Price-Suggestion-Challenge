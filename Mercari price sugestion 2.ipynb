{
  "cells": [
    {
      "metadata": {
        "collapsed": true,
        "_uuid": "d904c9653a13b25f9be829996095904473b3c4ab",
        "_cell_guid": "7db6e086-be3c-40a0-9639-31745d0831d7",
        "trusted": false
      },
      "cell_type": "code",
      "source": "from IPython.core.interactiveshell import InteractiveShell\nInteractiveShell.ast_node_interactivity = \"all\"\n\n%matplotlib inline\nimport time\nimport numpy as np \nimport pandas as pd \nimport matplotlib.pyplot as plt \nimport seaborn as sns \n\nfrom sklearn.feature_extraction.text import TfidfVectorizer\nfrom sklearn.decomposition import PCA, TruncatedSVD\nfrom sklearn.model_selection import train_test_split\nfrom xgboost import XGBRegressor\nimport xgboost as xgb\nfrom sklearn.model_selection import cross_val_score, GridSearchCV\n",
      "execution_count": null,
      "outputs": []
    },
    {
      "metadata": {
        "_uuid": "8f49da231bd9f8468ca94b53a360875b27ac03e1",
        "_cell_guid": "86288732-1d24-4fa0-a787-9077ed01edfc",
        "trusted": false,
        "collapsed": true
      },
      "cell_type": "code",
      "source": "train = pd.read_csv('../input/train.tsv', sep='\\t', index_col=0)\ntest = pd.read_csv('../input/test.tsv', sep='\\t', index_col=0)",
      "execution_count": null,
      "outputs": []
    },
    {
      "metadata": {
        "_uuid": "678cb4fe22151866c31618521e417c42cda3bb64",
        "_cell_guid": "00af4361-0b52-45ee-81f3-b3a901ad635b",
        "trusted": false,
        "collapsed": true
      },
      "cell_type": "code",
      "source": "all_data = pd.concat((train.drop(['price'], axis=1), test), ignore_index=True)\nall_data.shape",
      "execution_count": null,
      "outputs": []
    },
    {
      "metadata": {
        "collapsed": true,
        "_uuid": "98e65e35116eed177e51ebfb709433b4a5e0f483",
        "_cell_guid": "bd204711-1453-48c1-b585-70b0cd27ed43",
        "trusted": false
      },
      "cell_type": "code",
      "source": "def cat_no(category):\n    try: return len([s.strip() for s in category.split('/')])\n    except: return 0\n\nall_data['cat_no'] = all_data.category_name.apply(cat_no)",
      "execution_count": null,
      "outputs": []
    },
    {
      "metadata": {
        "_uuid": "e92e7a0707eea9262a706f03453809dd8264e316",
        "_cell_guid": "4094f5bd-7b5f-4ac6-8896-838e66552eff",
        "trusted": false,
        "collapsed": true
      },
      "cell_type": "code",
      "source": "all_data.cat_no.value_counts()",
      "execution_count": null,
      "outputs": []
    },
    {
      "metadata": {
        "collapsed": true,
        "_uuid": "b53da3a68d4b53948813b6cbf5387076b2956017",
        "_cell_guid": "92fdf789-f13d-463b-82ab-9334fd7e4e05",
        "trusted": false
      },
      "cell_type": "code",
      "source": "def split_cat(category) : \n    try: \n        cat_no = len([s.strip() for s in category.split('/')])\n        if (cat_no==3):\n            return category.split('/')+['NA', 'NA']\n        elif (cat_no==4):\n            return category.split('/')+['NA']\n        elif (cat_no==5):\n            return category.split('/')\n    except : \n        return ['NA', 'NA', 'NA', 'NA', 'NA']\n",
      "execution_count": null,
      "outputs": []
    },
    {
      "metadata": {
        "collapsed": true,
        "_uuid": "0c03cbb7ecf3b5fdfb3099884e90e20751b0ff05",
        "_cell_guid": "6634db13-510d-4083-ad75-f0aa62ee50c3",
        "trusted": false
      },
      "cell_type": "code",
      "source": "all_data['cat1'], all_data['cat2'], all_data['cat3'], all_data['cat4'], all_data['cat5'] = \\\nzip(*all_data['category_name'].apply(split_cat))",
      "execution_count": null,
      "outputs": []
    },
    {
      "metadata": {
        "_uuid": "9efcf53381a8402feb08942d0cd56fa12f0de026",
        "_cell_guid": "cb7621a4-482b-4630-801d-dee06294ffa2",
        "trusted": false,
        "collapsed": true
      },
      "cell_type": "code",
      "source": "all_data.head()",
      "execution_count": null,
      "outputs": []
    },
    {
      "metadata": {
        "_uuid": "3001228a573aa8c991568765a4d4de4f4634899a",
        "_cell_guid": "7967a54f-3012-44f1-8abd-3bfb993b2848",
        "trusted": false,
        "collapsed": true
      },
      "cell_type": "code",
      "source": "# Remove the 4 rows having null values in item_description from all_data, train, test\nall_data.dropna(subset=['item_description'], inplace=True)\ntrain.dropna(subset=['item_description'], inplace=True)\ntest.dropna(subset=['item_description'], inplace=True)\nall_data.reset_index(drop=True, inplace=True)\ntrain.reset_index(drop=True, inplace=True)\ntest.reset_index(drop=True, inplace=True)\n\nstart = time.clock()\ntfidf_vec = TfidfVectorizer(stop_words='english', ngram_range=(1,2))\nitem_vectors = tfidf_vec.fit_transform(all_data.item_description)\nprint (\"Time Elapsed : {0}\".format(time.clock()-start))\n",
      "execution_count": null,
      "outputs": []
    },
    {
      "metadata": {
        "_uuid": "1aec6fe155b5fcf607b4c5e50a287844a277304c",
        "_cell_guid": "5f1dd6f9-7c66-4b55-bab3-31ee6141067c",
        "trusted": false,
        "collapsed": true
      },
      "cell_type": "code",
      "source": "item_vectors.shape",
      "execution_count": null,
      "outputs": []
    },
    {
      "metadata": {
        "_uuid": "cacdb33273f1d5d5f97263ce97e31303203d6e65",
        "_cell_guid": "af4adf2e-f55f-4da2-87cf-0dbd6cf11eae",
        "trusted": false,
        "collapsed": true
      },
      "cell_type": "code",
      "source": "start = time.clock()\ntsvd = TruncatedSVD(n_components=50)\nred_item_desc = tsvd.fit_transform(item_vectors)\nprint (\"Time elapsed : {0}\".format(time.clock()-start))",
      "execution_count": null,
      "outputs": []
    },
    {
      "metadata": {
        "_uuid": "5f56634237a93d2e0142fedecbe030951ce7b6d8",
        "_cell_guid": "7330ce5d-d2cd-4b92-874b-4a752d3ca647",
        "trusted": false,
        "collapsed": true
      },
      "cell_type": "code",
      "source": "tsvd.explained_variance_ratio_.cumsum()[49]",
      "execution_count": null,
      "outputs": []
    },
    {
      "metadata": {
        "_uuid": "0ecb7d79cfad7bcb84c217b77c6a0f2bf15ccd07",
        "_cell_guid": "ebaf961f-005a-4161-935e-9414d1ca9411"
      },
      "cell_type": "markdown",
      "source": "It expalins only 13% of the total variance. Now lets do the tfifd vectorizing and truncated SVD transformation for 'name'. "
    },
    {
      "metadata": {
        "_uuid": "32ea7f8d0e0f8bc792cbdc797e6faa1be824b97a",
        "_cell_guid": "f1755d5b-b3f5-4ca8-9ea3-5d25f0a0da76",
        "trusted": false,
        "collapsed": true
      },
      "cell_type": "code",
      "source": "start = time.clock()\ntfidf_vec = TfidfVectorizer(stop_words='english', ngram_range=(1,2))\nname_vectors = tfidf_vec.fit_transform(all_data.name)\nprint (\"Time elapsed : {0}\".format(time.clock()-start))",
      "execution_count": null,
      "outputs": []
    },
    {
      "metadata": {
        "_uuid": "83f20cbc9627c18659e98c39bdb1827628bfbf35",
        "_cell_guid": "87ac259b-649f-4a69-a044-ac4358860e20",
        "trusted": false,
        "collapsed": true
      },
      "cell_type": "code",
      "source": "start = time.clock()\ntsvd = TruncatedSVD(n_components=100)\nred_name = tsvd.fit_transform(name_vectors)\nprint (\"Time elapsed : {0}\".format(time.clock()-start))",
      "execution_count": null,
      "outputs": []
    },
    {
      "metadata": {
        "_uuid": "92c08554dd68914e3f48a64b655f990884694044",
        "_cell_guid": "3364ff7b-650b-479b-8ea2-20e9f88b3477",
        "trusted": false,
        "collapsed": true
      },
      "cell_type": "code",
      "source": "tsvd.explained_variance_ratio_.cumsum()[99]",
      "execution_count": null,
      "outputs": []
    },
    {
      "metadata": {
        "_uuid": "51b1bfe9ef2a559864a3c9776f8ff5178727811e",
        "_cell_guid": "9d0d2212-c87e-451e-955d-2a57c5a38018"
      },
      "cell_type": "markdown",
      "source": "100 components only explain 10% of variance in names. Lets integrate them into all_data as features."
    },
    {
      "metadata": {
        "_uuid": "00fd137f6d8101e38dca4fbea69313131d946240",
        "_cell_guid": "2f0c6307-9726-4ed2-9bae-6b09158f759c",
        "scrolled": true,
        "trusted": false,
        "collapsed": true
      },
      "cell_type": "code",
      "source": "print (red_item_desc.shape, all_data.shape, red_name.shape)\ntrain.shape, test.shape",
      "execution_count": null,
      "outputs": []
    },
    {
      "metadata": {
        "collapsed": true,
        "_uuid": "d1e60493bec5ea5fb87b1ab99ad70a1135e2e54b",
        "_cell_guid": "b0174479-13ab-4293-9582-45c1906c9868",
        "trusted": false
      },
      "cell_type": "code",
      "source": "desc_svd_cols = ['item_description_'+str(i) for i in range(1, 51)]\nname_svd_cols = ['name_'+str(i) for i in range(1, 101)]\ndesc_svd_df = pd.DataFrame(red_item_desc, columns=desc_svd_cols)\nname_svd_df = pd.DataFrame(red_name, columns=name_svd_cols)",
      "execution_count": null,
      "outputs": []
    },
    {
      "metadata": {
        "collapsed": true,
        "_uuid": "48c99638b205db48d15ca9ae0ee5cea23a9c5a9d",
        "_cell_guid": "e6b4abf8-67ff-43a0-85a5-47506fa4867f",
        "trusted": false
      },
      "cell_type": "code",
      "source": "all_data_svd = pd.concat([all_data, desc_svd_df], axis=1)\nall_data_svd = pd.concat([all_data_svd, name_svd_df], axis=1)",
      "execution_count": null,
      "outputs": []
    },
    {
      "metadata": {
        "_uuid": "539d46d844f8e4b6a48755e7f3b802eefd7051d2",
        "_cell_guid": "c4558eff-553d-49d2-8dde-2953ccfdeba1",
        "trusted": false,
        "collapsed": true
      },
      "cell_type": "code",
      "source": "all_data_svd.brand_name.fillna('NA', inplace=True)\nall_data_svd['brand_name'] = all_data_svd['brand_name'].astype('category').cat.codes\nall_data_svd['cat1'] = all_data_svd['cat1'].astype('category').cat.codes\nall_data_svd['cat2'] = all_data_svd['cat2'].astype('category').cat.codes\nall_data_svd['cat3'] = all_data_svd['cat3'].astype('category').cat.codes\nall_data_svd['cat4'] = all_data_svd['cat4'].astype('category').cat.codes\nall_data_svd['cat5'] = all_data_svd['cat5'].astype('category').cat.codes",
      "execution_count": null,
      "outputs": []
    },
    {
      "metadata": {
        "collapsed": true,
        "_uuid": "ceda65c3697f5529240fa6de05e95808a94653be",
        "_cell_guid": "852fc768-3783-463b-b34e-8e8c20b1eae4",
        "trusted": false
      },
      "cell_type": "code",
      "source": "train_svd = all_data_svd.loc[:train.shape[0], :]\ntest_svd = all_data_svd.loc[train.shape[0]:, :]\ntest_svd.reset_index(drop=True, inplace=True)",
      "execution_count": null,
      "outputs": []
    },
    {
      "metadata": {
        "_uuid": "79ce2969855416d6363b98d17cebbc8059a8ac07",
        "_cell_guid": "8295dd8f-e816-4b36-a0f6-764d9759bbe8",
        "trusted": false,
        "collapsed": true
      },
      "cell_type": "code",
      "source": "train_svd['price'] = train['price']",
      "execution_count": null,
      "outputs": []
    },
    {
      "metadata": {
        "collapsed": true,
        "_uuid": "598b55577e839741826559c71f48ce4125209fa2",
        "_cell_guid": "7572dd97-4b09-4e83-9bc8-94a549f25c9d",
        "trusted": false
      },
      "cell_type": "code",
      "source": "def rmsle(y_true, y_pred):\n    return np.sqrt( np.square(np.log(y_pred+1) - np.log(y_true+1)).sum() / y_true.shape[0] )",
      "execution_count": null,
      "outputs": []
    },
    {
      "metadata": {
        "_uuid": "72c0329a01562adcaf39aca76cf13fbc1d8458fa",
        "_cell_guid": "6309f38a-84a0-4f5c-a871-78ee7726580f",
        "trusted": false,
        "collapsed": true
      },
      "cell_type": "code",
      "source": "exclude = ['name','category_name','item_description', 'price']\npredictors = list(set(list(train_svd.columns)) - set(exclude))",
      "execution_count": null,
      "outputs": []
    },
    {
      "metadata": {
        "_uuid": "f01dd14a13c9911ff866a4731af55716ac1d2678",
        "_cell_guid": "255132d9-e053-4ce2-8882-679c53f02317",
        "trusted": false,
        "collapsed": true
      },
      "cell_type": "code",
      "source": "X = train_svd[predictors]\ny = train_svd['price']\nX_train, X_test, y_train, y_test = train_test_split(X, y, test_size=0.25, shuffle=True, random_state=11 )\nX_train.shape, X_test.shape",
      "execution_count": null,
      "outputs": []
    },
    {
      "metadata": {
        "_uuid": "e2a02912372a7bf6a3ffd9c25579e4840444c12e",
        "_cell_guid": "7e2647ac-ef14-43df-9652-eb4bbc6e80cc"
      },
      "cell_type": "markdown",
      "source": "Now lets start the process of XGBoost. "
    },
    {
      "metadata": {
        "collapsed": true,
        "_uuid": "b1b743251558e1d4b235fc9ae7c089dcc20dd99f",
        "_cell_guid": "08b7ff1b-e595-464a-89a7-21af3689d023",
        "trusted": false
      },
      "cell_type": "code",
      "source": "def modelfit(alg, dtrain, predictors,useTrainCV=True, cv_folds=5, early_stopping_rounds=50):\n    \n    if useTrainCV:\n        xgb_param = alg.get_xgb_params()\n        xgtrain = xgb.DMatrix(dtrain[predictors].values, label=dtrain['price'].values)\n        cvresult = xgb.cv(xgb_param, xgtrain, num_boost_round=alg.get_params()['n_estimators'], nfold=cv_folds,\n            early_stopping_rounds=early_stopping_rounds, show_progress=True)\n        alg.set_params(n_estimators=cvresult.shape[0])\n    \n    #Fit the algorithm on the data\n    alg.fit(dtrain[predictors], dtrain['price'])\n        \n    #Predict training set:\n    dtrain_predictions = alg.predict(dtrain[predictors])\n#     dtrain_predprob = alg.predict_proba(dtrain[predictors])[:,1]\n    \n    return dtrain_predictions, cvresult\n    ",
      "execution_count": null,
      "outputs": []
    },
    {
      "metadata": {
        "_uuid": "0fd7649587bf1f5cd99bf0c181c75aea81680f9f",
        "_cell_guid": "300e2a2f-0c87-49ec-befa-fe5ea3869fe7",
        "trusted": false,
        "collapsed": true
      },
      "cell_type": "code",
      "source": "xgb1 = XGBRegressor(\n learning_rate =0.1,\n n_estimators=1000,\n max_depth=5,\n min_child_weight=1,\n gamma=0,\n subsample=0.8,\n colsample_bytree=0.8,\n objective= 'reg:linear',\n nthread=4,\n scale_pos_weight=1,\n seed=27)\ndtrain_pred, cvresult = modelfit(xgb1, train_svd, predictors)",
      "execution_count": null,
      "outputs": []
    },
    {
      "metadata": {
        "collapsed": true,
        "_uuid": "8d07509ffc32651787343f73ba3b7f1b51ad8205",
        "_cell_guid": "2ba5ed7d-0983-491e-8dab-9717bdd286c1",
        "trusted": false
      },
      "cell_type": "code",
      "source": "",
      "execution_count": null,
      "outputs": []
    },
    {
      "metadata": {
        "collapsed": true,
        "_uuid": "123ad102bbe15273bdc941b8e208fe986b534007",
        "_cell_guid": "15fa327f-6a55-46f6-be51-4d5ca92d1a1b",
        "trusted": false
      },
      "cell_type": "code",
      "source": "",
      "execution_count": null,
      "outputs": []
    }
  ],
  "metadata": {
    "language_info": {
      "name": "python",
      "version": "3.6.3",
      "mimetype": "text/x-python",
      "codemirror_mode": {
        "name": "ipython",
        "version": 3
      },
      "pygments_lexer": "ipython3",
      "nbconvert_exporter": "python",
      "file_extension": ".py"
    },
    "kernelspec": {
      "display_name": "Python 3",
      "language": "python",
      "name": "python3"
    }
  },
  "nbformat": 4,
  "nbformat_minor": 1
}